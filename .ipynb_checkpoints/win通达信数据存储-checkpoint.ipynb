{
 "cells": [
  {
   "cell_type": "markdown",
   "metadata": {},
   "source": [
    "## 通达信数据存储\n",
    "### 基本设置\n",
    "####  导入模块"
   ]
  },
  {
   "cell_type": "code",
   "execution_count": 1,
   "metadata": {
    "ExecuteTime": {
     "end_time": "2020-04-12T10:11:18.412457Z",
     "start_time": "2020-04-12T10:11:17.987969Z"
    }
   },
   "outputs": [],
   "source": [
    "import pandas as pd\n",
    "import numpy as np\n",
    "from pathlib import Path\n",
    "import re \n",
    "import platform"
   ]
  },
  {
   "cell_type": "markdown",
   "metadata": {},
   "source": [
    "#### 设置输出显示\n",
    "##### 单元格设置\n",
    "+ 允许一个单元格有多个输出\n",
    "+ 显示所有列（不换行）和行"
   ]
  },
  {
   "cell_type": "code",
   "execution_count": 2,
   "metadata": {
    "ExecuteTime": {
     "end_time": "2020-04-12T10:11:18.418529Z",
     "start_time": "2020-04-12T10:11:18.413387Z"
    }
   },
   "outputs": [],
   "source": [
    "from IPython.core.interactiveshell import InteractiveShell\n",
    "InteractiveShell.ast_node_interactivity = 'all'  # 允许一个单元格有多个输出\n",
    "pd.set_option('display.max_columns', None)  # 显示所有列，None无限制\n",
    "pd.set_option('expand_frame_repr', False)  # 不换行\n",
    "pd.set_option(\"display.max_rows\", None)  # 显示所有行，None无限制\n",
    "np.set_printoptions(suppress=True)  # 不显示科学计数法\n",
    "pd.set_option('display.float_format', lambda x: '%.2f' % x)  # 不显示科学计数法"
   ]
  },
  {
   "cell_type": "markdown",
   "metadata": {},
   "source": [
    "#### 设置hdf5默认存储格式\n",
    "+ enable put/append/to_hdf to by default store in the table format."
   ]
  },
  {
   "cell_type": "code",
   "execution_count": 3,
   "metadata": {
    "ExecuteTime": {
     "end_time": "2020-04-12T10:11:18.427366Z",
     "start_time": "2020-04-12T10:11:18.420368Z"
    }
   },
   "outputs": [],
   "source": [
    "pd.set_option('io.hdf.default_format','table') "
   ]
  },
  {
   "cell_type": "markdown",
   "metadata": {},
   "source": [
    "#### 设置数据目录\n",
    "+ windows通达信程序主目录(其vipdoc子目录中包含日线数据)  D:/2020tdx\n",
    "+ windosw股票数据主目录 D:/Stock_Data其下的csv和hdf子目录分别存储对应格式的数据文件\n",
    "+ Tushare相关指标数据存于子目录tushare中\n",
    "+ mac及ubuntu均为主目录下建立对应的子目录"
   ]
  },
  {
   "cell_type": "code",
   "execution_count": 4,
   "metadata": {
    "ExecuteTime": {
     "end_time": "2020-04-12T10:11:18.933189Z",
     "start_time": "2020-04-12T10:11:18.429345Z"
    }
   },
   "outputs": [
    {
     "name": "stdout",
     "output_type": "stream",
     "text": [
      "D:\\Stock_Data\\csv\n",
      "D:\\Stock_Data\\hdf\n",
      "D:\\Stock_Data\\tushare\n"
     ]
    }
   ],
   "source": [
    "if(platform.system()=='Windows'):\n",
    "    TDX_Data_Dir=Path('D:/2020tdx/vipdoc')\n",
    "    Stock_Data_Dir = Path('D:/Stock_Data')\n",
    "else :\n",
    "    TDX_Data_Dir=Path.home()/'Stock_Data/TDX'\n",
    "    Stock_Data_Dir = Path.home()/'Stock_Data'\n",
    "sub_dirs = ['csv', 'hdf', 'tushare']\n",
    "\n",
    "for i in range(len(sub_dirs)):\n",
    "    out_sub_dir = Stock_Data_Dir/sub_dirs[i]  # 可以使用/符号来拼接路径\n",
    "    if(not out_sub_dir.exists()):\n",
    "        out_sub_dir.mkdir()\n",
    "    print(out_sub_dir)"
   ]
  },
  {
   "cell_type": "markdown",
   "metadata": {},
   "source": [
    "#### 通达信数据文件处理"
   ]
  },
  {
   "cell_type": "markdown",
   "metadata": {},
   "source": [
    "##### 判断是否为A股代码"
   ]
  },
  {
   "cell_type": "code",
   "execution_count": 5,
   "metadata": {
    "ExecuteTime": {
     "end_time": "2020-04-12T10:11:18.941190Z",
     "start_time": "2020-04-12T10:11:18.936179Z"
    }
   },
   "outputs": [],
   "source": [
    "def judge_stockcode(dayfile):\n",
    "    '''\n",
    "    传入通达信文件名，根据正则表达式判断其是否为A股\n",
    "    \n",
    "    深市A股的代码是00和300开头的,其中000开头的是主板股票，002开头的是中小板股票，300开头的是创业板股票。\n",
    "    沪市A股的代码是以6开头的，其中600、601或603是主板股票，688是是科创板股票\n",
    "    '''\n",
    "    filename = dayfile.stem  #读取主文件名，不含路径和扩展名\n",
    "    pattern = '(sh600|sh601|sh603|sh688|sz000|sz002|sz300)\\d{3}$'\n",
    "    regex=re.compile(pattern,flags=re.I)\n",
    "    Astockcode = True if regex.match(filename) else False\n",
    "    return Astockcode"
   ]
  },
  {
   "cell_type": "markdown",
   "metadata": {},
   "source": [
    "##### 解析文件数据"
   ]
  },
  {
   "cell_type": "code",
   "execution_count": 15,
   "metadata": {
    "ExecuteTime": {
     "end_time": "2020-04-12T10:21:42.239762Z",
     "start_time": "2020-04-12T10:21:42.221859Z"
    }
   },
   "outputs": [],
   "source": [
    "def parse_data(dayfile,fileoffset=0):\n",
    "    '''\n",
    "    通达信数据文件每32字节为一天的交易数据，其中每4个字节为一个字段内容，每个字段采用小端存储，\n",
    "    低字节在前面，包含交易日期、ohlc、amount、vol等7个有效数据字段,最后4个字节为保留字段\n",
    "   \n",
    "    00 ~ 03 字节：年月日,整型  trade_date\n",
    "    04 ~ 07 字节：开盘价*100,整型 open\n",
    "    08 ~ 11 字节：最高价*100,整型 high\n",
    "    12 ~ 15 字节：最低价*100,整型 low\n",
    "    16 ~ 19 字节：收盘价*100, 整型 close\n",
    "    20 ~ 23 字节：成交额（元）,float型--/1000=千元 amount\n",
    "    24 ~ 27 字节：成交量（股）,整型--/100=手  vol \n",
    "    28 ~ 31 字节：（保留）\n",
    "    '''\n",
    "    with open(dayfile,'rb') as f:\n",
    "        data=np.fromfile(f,dtype='<i4,<i4,<i4,<i4,<i4,<f4,<i4,<i4',offset=fileoffset)  #直接读入二进制结构数组中\n",
    "    kline=[list(data[i])[:7] for i in range(data.size)]    \n",
    "    return kline"
   ]
  },
  {
   "cell_type": "markdown",
   "metadata": {
    "ExecuteTime": {
     "end_time": "2020-01-21T03:34:00.148859Z",
     "start_time": "2020-01-21T03:34:00.146875Z"
    }
   },
   "source": [
    "##### 构建Tushare结构的股票数据"
   ]
  },
  {
   "cell_type": "code",
   "execution_count": 10,
   "metadata": {
    "ExecuteTime": {
     "end_time": "2020-04-12T10:16:32.770049Z",
     "start_time": "2020-04-12T10:16:32.764112Z"
    }
   },
   "outputs": [],
   "source": [
    "def build_tushare_data(kline, tdxcols, tusharecols, ts_code):\n",
    "    '''\n",
    "    读取通达信A股数据文件，参考Tushare日线行情daily接口的输出参数名和顺序构建股票数据\n",
    "   \n",
    "    '''\n",
    "    sdata = pd.DataFrame(data=kline, columns=tdxcols)\n",
    "    sdata['trade_date']=sdata['trade_date'].apply(lambda x :str(x)) #将整型日期转换为字符型\n",
    "    sdata['open'] = sdata['open'] / 100\n",
    "    sdata['high'] = sdata['high'] / 100\n",
    "    sdata['low'] = sdata['low'] / 100\n",
    "    sdata['close'] = sdata['close'] / 100\n",
    "    sdata['amount'] = sdata['amount'] / 1000\n",
    "    sdata['vol'] = sdata['vol'] / 100\n",
    "    \n",
    "    sdata = sdata.reindex(columns=tusharecols)\n",
    "    sdata['ts_code'] = ts_code  # 按Tushare格式构造股票代码\n",
    "    sdata.set_index('trade_date',inplace=True) #将交易时间设置为索引，方便后续增补数据\n",
    "    #sdata.index=pd.DatetimeIndex(sdata.index) #与Tushare格式不一致\n",
    "    return sdata"
   ]
  },
  {
   "cell_type": "markdown",
   "metadata": {},
   "source": [
    "#####  遍历日线文件并存储"
   ]
  },
  {
   "cell_type": "code",
   "execution_count": 18,
   "metadata": {
    "ExecuteTime": {
     "end_time": "2020-04-12T10:22:58.117544Z",
     "start_time": "2020-04-12T10:22:58.092928Z"
    }
   },
   "outputs": [
    {
     "ename": "KeyError",
     "evalue": "'No object named dayfileinfo in the file'",
     "output_type": "error",
     "traceback": [
      "\u001b[1;31m---------------------------------------------------------------------------\u001b[0m",
      "\u001b[1;31mKeyError\u001b[0m                                  Traceback (most recent call last)",
      "\u001b[1;32m<ipython-input-18-5f4f2259b10a>\u001b[0m in \u001b[0;36m<module>\u001b[1;34m\u001b[0m\n\u001b[0;32m     28\u001b[0m                 \u001b[0mdayfile\u001b[0m\u001b[1;33m.\u001b[0m\u001b[0mstem\u001b[0m\u001b[1;33m[\u001b[0m\u001b[1;33m:\u001b[0m\u001b[1;36m2\u001b[0m\u001b[1;33m]\u001b[0m\u001b[1;33m.\u001b[0m\u001b[0mupper\u001b[0m\u001b[1;33m(\u001b[0m\u001b[1;33m)\u001b[0m  \u001b[1;31m# 按Tushare格式构造股票代码\u001b[0m\u001b[1;33m\u001b[0m\u001b[1;33m\u001b[0m\u001b[0m\n\u001b[0;32m     29\u001b[0m             \u001b[1;32mif\u001b[0m\u001b[1;33m(\u001b[0m\u001b[0mdayfileinfo\u001b[0m\u001b[1;33m)\u001b[0m\u001b[1;33m:\u001b[0m  \u001b[1;31m# 检查对应股票代码文件长度\u001b[0m\u001b[1;33m\u001b[0m\u001b[1;33m\u001b[0m\u001b[0m\n\u001b[1;32m---> 30\u001b[1;33m                 \u001b[1;32mif\u001b[0m\u001b[1;33m(\u001b[0m\u001b[0mdayfile\u001b[0m \u001b[1;32min\u001b[0m \u001b[0mtdx_stack\u001b[0m\u001b[1;33m[\u001b[0m\u001b[1;34m'dayfileinfo'\u001b[0m\u001b[1;33m]\u001b[0m\u001b[1;33m)\u001b[0m\u001b[1;33m:\u001b[0m  \u001b[1;31m# 如果有该股票，检查文件--避免停牌\u001b[0m\u001b[1;33m\u001b[0m\u001b[1;33m\u001b[0m\u001b[0m\n\u001b[0m\u001b[0;32m     31\u001b[0m                     \u001b[1;32mif\u001b[0m\u001b[1;33m(\u001b[0m\u001b[0mfilelength\u001b[0m \u001b[1;33m>\u001b[0m \u001b[0mtdx_stack\u001b[0m\u001b[1;33m[\u001b[0m\u001b[1;34m'dayfileinfo'\u001b[0m\u001b[1;33m]\u001b[0m\u001b[1;33m[\u001b[0m\u001b[0mdayfile\u001b[0m\u001b[1;33m]\u001b[0m\u001b[1;33m)\u001b[0m\u001b[1;33m:\u001b[0m\u001b[1;33m\u001b[0m\u001b[1;33m\u001b[0m\u001b[0m\n\u001b[0;32m     32\u001b[0m                         \u001b[0mfileoffset\u001b[0m \u001b[1;33m=\u001b[0m \u001b[0mtdx_stack\u001b[0m\u001b[1;33m[\u001b[0m\u001b[1;34m'dayfileinfo'\u001b[0m\u001b[1;33m]\u001b[0m\u001b[1;33m[\u001b[0m\u001b[0mdayfile\u001b[0m\u001b[1;33m]\u001b[0m\u001b[1;33m\u001b[0m\u001b[1;33m\u001b[0m\u001b[0m\n",
      "\u001b[1;32mC:\\Anaconda3\\lib\\site-packages\\pandas\\io\\pytables.py\u001b[0m in \u001b[0;36m__getitem__\u001b[1;34m(self, key)\u001b[0m\n\u001b[0;32m    519\u001b[0m \u001b[1;33m\u001b[0m\u001b[0m\n\u001b[0;32m    520\u001b[0m     \u001b[1;32mdef\u001b[0m \u001b[0m__getitem__\u001b[0m\u001b[1;33m(\u001b[0m\u001b[0mself\u001b[0m\u001b[1;33m,\u001b[0m \u001b[0mkey\u001b[0m\u001b[1;33m)\u001b[0m\u001b[1;33m:\u001b[0m\u001b[1;33m\u001b[0m\u001b[1;33m\u001b[0m\u001b[0m\n\u001b[1;32m--> 521\u001b[1;33m         \u001b[1;32mreturn\u001b[0m \u001b[0mself\u001b[0m\u001b[1;33m.\u001b[0m\u001b[0mget\u001b[0m\u001b[1;33m(\u001b[0m\u001b[0mkey\u001b[0m\u001b[1;33m)\u001b[0m\u001b[1;33m\u001b[0m\u001b[1;33m\u001b[0m\u001b[0m\n\u001b[0m\u001b[0;32m    522\u001b[0m \u001b[1;33m\u001b[0m\u001b[0m\n\u001b[0;32m    523\u001b[0m     \u001b[1;32mdef\u001b[0m \u001b[0m__setitem__\u001b[0m\u001b[1;33m(\u001b[0m\u001b[0mself\u001b[0m\u001b[1;33m,\u001b[0m \u001b[0mkey\u001b[0m\u001b[1;33m,\u001b[0m \u001b[0mvalue\u001b[0m\u001b[1;33m)\u001b[0m\u001b[1;33m:\u001b[0m\u001b[1;33m\u001b[0m\u001b[1;33m\u001b[0m\u001b[0m\n",
      "\u001b[1;32mC:\\Anaconda3\\lib\\site-packages\\pandas\\io\\pytables.py\u001b[0m in \u001b[0;36mget\u001b[1;34m(self, key)\u001b[0m\n\u001b[0;32m    717\u001b[0m         \u001b[0mgroup\u001b[0m \u001b[1;33m=\u001b[0m \u001b[0mself\u001b[0m\u001b[1;33m.\u001b[0m\u001b[0mget_node\u001b[0m\u001b[1;33m(\u001b[0m\u001b[0mkey\u001b[0m\u001b[1;33m)\u001b[0m\u001b[1;33m\u001b[0m\u001b[1;33m\u001b[0m\u001b[0m\n\u001b[0;32m    718\u001b[0m         \u001b[1;32mif\u001b[0m \u001b[0mgroup\u001b[0m \u001b[1;32mis\u001b[0m \u001b[1;32mNone\u001b[0m\u001b[1;33m:\u001b[0m\u001b[1;33m\u001b[0m\u001b[1;33m\u001b[0m\u001b[0m\n\u001b[1;32m--> 719\u001b[1;33m             \u001b[1;32mraise\u001b[0m \u001b[0mKeyError\u001b[0m\u001b[1;33m(\u001b[0m\u001b[1;34m\"No object named {key} in the file\"\u001b[0m\u001b[1;33m.\u001b[0m\u001b[0mformat\u001b[0m\u001b[1;33m(\u001b[0m\u001b[0mkey\u001b[0m\u001b[1;33m=\u001b[0m\u001b[0mkey\u001b[0m\u001b[1;33m)\u001b[0m\u001b[1;33m)\u001b[0m\u001b[1;33m\u001b[0m\u001b[1;33m\u001b[0m\u001b[0m\n\u001b[0m\u001b[0;32m    720\u001b[0m         \u001b[1;32mreturn\u001b[0m \u001b[0mself\u001b[0m\u001b[1;33m.\u001b[0m\u001b[0m_read_group\u001b[0m\u001b[1;33m(\u001b[0m\u001b[0mgroup\u001b[0m\u001b[1;33m)\u001b[0m\u001b[1;33m\u001b[0m\u001b[1;33m\u001b[0m\u001b[0m\n\u001b[0;32m    721\u001b[0m \u001b[1;33m\u001b[0m\u001b[0m\n",
      "\u001b[1;31mKeyError\u001b[0m: 'No object named dayfileinfo in the file'"
     ]
    }
   ],
   "source": [
    "filesize = {}  # 用字典记录通达信日线文件的长度\n",
    "hdffile = Stock_Data_Dir / 'hdf/t6.h5'\n",
    "if(not Path(hdffile).exists()):  # 如果hdf文件不存在，则为全备份\n",
    "    fileoffset = 0  # 字节偏移量为0\n",
    "    dayfileinfo = False\n",
    "else:\n",
    "    dayfileinfo = True  # 如果hdf文件存在，则为增量备份\n",
    "\n",
    "# 据说使用blosc速度最快，但HDFView打开时数据报错\n",
    "tdx_stack = pd.HDFStore(str(hdffile), complevel=9)\n",
    "filecount = 0\n",
    "\n",
    "tdxcols = ['trade_date', 'open', 'high', 'low', 'close', 'amount', 'vol']\n",
    "tusharecols = [\n",
    "    'ts_code', 'trade_date', 'open', 'high', 'low', 'close', 'vol', 'amount'\n",
    "]\n",
    "# 数据目录vipdoc下没有包含.day名的子目录，否则要进行判断\n",
    "for dayfile in TDX_Data_Dir.rglob('*.day'):\n",
    "    if (judge_stockcode(dayfile)):  # 如果是A股则提取数据\n",
    "        filelength = dayfile.stat().st_size  # 获取文件长度\n",
    "        if (filelength % 32):  # 文件的长度如果不是32的倍数，则继续循环下一个\n",
    "            print('文件{}有损坏，请检查'.format(dayfile))\n",
    "            continue\n",
    "        else:\n",
    "            filesize[dayfile.name] = filelength  # 记录通达信日线文件的长度\n",
    "            code_label = dayfile.stem  # 设置group为主文件名\n",
    "            ts_code = dayfile.stem[2:] + '.' + \\\n",
    "                dayfile.stem[:2].upper()  # 按Tushare格式构造股票代码\n",
    "            if(dayfileinfo):  # 检查对应股票代码文件长度\n",
    "                if(dayfile in tdx_stack['dayfileinfo']):  # 如果有该股票，检查文件--避免停牌\n",
    "                    if(filelength > tdx_stack['dayfileinfo'][dayfile]):\n",
    "                        fileoffset = tdx_stack['dayfileinfo'][dayfile]\n",
    "                        tp=False # 当日未停牌\n",
    "                    else:\n",
    "                        tp=True  # 当日停牌\n",
    "                else:  # 当日新股上市\n",
    "                    offset = 0\n",
    "            if(not suspension):\n",
    "                kline = parse_data(dayfile, fileoffset)  # 解析数据\n",
    "                tdx_df = build_tushare_data(kline, tdxcols, tusharecols,\n",
    "                                        ts_code)  # 构建股票数据\n",
    "                tdx_stack.put(code_label, tdx_df,append=True)\n",
    "                filecount += 1\n",
    "\n",
    "tdx_stack.put('dayfileinfo', pd.Series(filesize))\n",
    "tdx_stack.close()\n",
    "print(filecount)"
   ]
  },
  {
   "cell_type": "code",
   "execution_count": 21,
   "metadata": {
    "ExecuteTime": {
     "end_time": "2020-04-12T10:24:37.119589Z",
     "start_time": "2020-04-12T10:24:37.116104Z"
    }
   },
   "outputs": [],
   "source": [
    "tdx_stack.close()"
   ]
  },
  {
   "cell_type": "markdown",
   "metadata": {},
   "source": [
    "##### 查看数据基本情况"
   ]
  },
  {
   "cell_type": "code",
   "execution_count": 7,
   "metadata": {
    "ExecuteTime": {
     "end_time": "2020-04-12T10:11:46.437430Z",
     "start_time": "2020-04-12T10:11:45.603900Z"
    }
   },
   "outputs": [
    {
     "data": {
      "text/html": [
       "<div>\n",
       "<style scoped>\n",
       "    .dataframe tbody tr th:only-of-type {\n",
       "        vertical-align: middle;\n",
       "    }\n",
       "\n",
       "    .dataframe tbody tr th {\n",
       "        vertical-align: top;\n",
       "    }\n",
       "\n",
       "    .dataframe thead th {\n",
       "        text-align: right;\n",
       "    }\n",
       "</style>\n",
       "<table border=\"1\" class=\"dataframe\">\n",
       "  <thead>\n",
       "    <tr style=\"text-align: right;\">\n",
       "      <th></th>\n",
       "      <th>ts_code</th>\n",
       "      <th>trade_date</th>\n",
       "      <th>open</th>\n",
       "      <th>high</th>\n",
       "      <th>low</th>\n",
       "      <th>close</th>\n",
       "      <th>vol</th>\n",
       "      <th>amount</th>\n",
       "    </tr>\n",
       "  </thead>\n",
       "  <tbody>\n",
       "    <tr>\n",
       "      <td>0</td>\n",
       "      <td>600000.SH</td>\n",
       "      <td>19991110</td>\n",
       "      <td>29.50</td>\n",
       "      <td>29.80</td>\n",
       "      <td>27.00</td>\n",
       "      <td>27.75</td>\n",
       "      <td>1740850.00</td>\n",
       "      <td>4859102.21</td>\n",
       "    </tr>\n",
       "    <tr>\n",
       "      <td>1</td>\n",
       "      <td>600000.SH</td>\n",
       "      <td>19991111</td>\n",
       "      <td>27.58</td>\n",
       "      <td>28.38</td>\n",
       "      <td>27.53</td>\n",
       "      <td>27.71</td>\n",
       "      <td>294034.00</td>\n",
       "      <td>821582.21</td>\n",
       "    </tr>\n",
       "    <tr>\n",
       "      <td>2</td>\n",
       "      <td>600000.SH</td>\n",
       "      <td>19991112</td>\n",
       "      <td>27.86</td>\n",
       "      <td>28.30</td>\n",
       "      <td>27.77</td>\n",
       "      <td>28.05</td>\n",
       "      <td>150079.00</td>\n",
       "      <td>421591.62</td>\n",
       "    </tr>\n",
       "    <tr>\n",
       "      <td>3</td>\n",
       "      <td>600000.SH</td>\n",
       "      <td>19991115</td>\n",
       "      <td>28.20</td>\n",
       "      <td>28.25</td>\n",
       "      <td>27.70</td>\n",
       "      <td>27.75</td>\n",
       "      <td>119210.00</td>\n",
       "      <td>332952.80</td>\n",
       "    </tr>\n",
       "    <tr>\n",
       "      <td>4</td>\n",
       "      <td>600000.SH</td>\n",
       "      <td>19991116</td>\n",
       "      <td>27.88</td>\n",
       "      <td>27.97</td>\n",
       "      <td>26.48</td>\n",
       "      <td>26.55</td>\n",
       "      <td>232231.00</td>\n",
       "      <td>628908.29</td>\n",
       "    </tr>\n",
       "    <tr>\n",
       "      <td>5</td>\n",
       "      <td>600000.SH</td>\n",
       "      <td>19991117</td>\n",
       "      <td>26.50</td>\n",
       "      <td>27.18</td>\n",
       "      <td>26.37</td>\n",
       "      <td>27.18</td>\n",
       "      <td>100525.00</td>\n",
       "      <td>268995.04</td>\n",
       "    </tr>\n",
       "    <tr>\n",
       "      <td>6</td>\n",
       "      <td>600000.SH</td>\n",
       "      <td>19991118</td>\n",
       "      <td>27.20</td>\n",
       "      <td>27.58</td>\n",
       "      <td>26.78</td>\n",
       "      <td>27.02</td>\n",
       "      <td>84465.00</td>\n",
       "      <td>229577.87</td>\n",
       "    </tr>\n",
       "    <tr>\n",
       "      <td>7</td>\n",
       "      <td>600000.SH</td>\n",
       "      <td>19991119</td>\n",
       "      <td>27.50</td>\n",
       "      <td>27.53</td>\n",
       "      <td>26.80</td>\n",
       "      <td>26.88</td>\n",
       "      <td>53749.00</td>\n",
       "      <td>145887.12</td>\n",
       "    </tr>\n",
       "    <tr>\n",
       "      <td>8</td>\n",
       "      <td>600000.SH</td>\n",
       "      <td>19991122</td>\n",
       "      <td>26.88</td>\n",
       "      <td>26.95</td>\n",
       "      <td>26.30</td>\n",
       "      <td>26.45</td>\n",
       "      <td>55354.00</td>\n",
       "      <td>147086.16</td>\n",
       "    </tr>\n",
       "    <tr>\n",
       "      <td>9</td>\n",
       "      <td>600000.SH</td>\n",
       "      <td>19991123</td>\n",
       "      <td>26.45</td>\n",
       "      <td>26.55</td>\n",
       "      <td>26.10</td>\n",
       "      <td>26.45</td>\n",
       "      <td>38439.00</td>\n",
       "      <td>101224.50</td>\n",
       "    </tr>\n",
       "  </tbody>\n",
       "</table>\n",
       "</div>"
      ],
      "text/plain": [
       "     ts_code  trade_date  open  high   low  close        vol     amount\n",
       "0  600000.SH    19991110 29.50 29.80 27.00  27.75 1740850.00 4859102.21\n",
       "1  600000.SH    19991111 27.58 28.38 27.53  27.71  294034.00  821582.21\n",
       "2  600000.SH    19991112 27.86 28.30 27.77  28.05  150079.00  421591.62\n",
       "3  600000.SH    19991115 28.20 28.25 27.70  27.75  119210.00  332952.80\n",
       "4  600000.SH    19991116 27.88 27.97 26.48  26.55  232231.00  628908.29\n",
       "5  600000.SH    19991117 26.50 27.18 26.37  27.18  100525.00  268995.04\n",
       "6  600000.SH    19991118 27.20 27.58 26.78  27.02   84465.00  229577.87\n",
       "7  600000.SH    19991119 27.50 27.53 26.80  26.88   53749.00  145887.12\n",
       "8  600000.SH    19991122 26.88 26.95 26.30  26.45   55354.00  147086.16\n",
       "9  600000.SH    19991123 26.45 26.55 26.10  26.45   38439.00  101224.50"
      ]
     },
     "execution_count": 7,
     "metadata": {},
     "output_type": "execute_result"
    }
   ],
   "source": [
    "tdx_stack = pd.HDFStore(str(Stock_Data_Dir/'hdf/tdx.h5'))\n",
    "test=tdx_stack['sh600000'].head(10)\n",
    "test\n",
    "\n",
    "tdx_stack.close()"
   ]
  },
  {
   "cell_type": "code",
   "execution_count": 25,
   "metadata": {
    "ExecuteTime": {
     "end_time": "2020-03-31T23:14:17.653309Z",
     "start_time": "2020-03-31T23:14:17.644310Z"
    }
   },
   "outputs": [
    {
     "name": "stdout",
     "output_type": "stream",
     "text": [
      "<class 'pandas.core.frame.DataFrame'>\n",
      "DatetimeIndex: 5 entries, 1999-11-10 to 1999-11-16\n",
      "Data columns (total 7 columns):\n",
      "ts_code    5 non-null object\n",
      "open       5 non-null float64\n",
      "high       5 non-null float64\n",
      "low        5 non-null float64\n",
      "close      5 non-null float64\n",
      "vol        5 non-null float64\n",
      "amount     5 non-null object\n",
      "dtypes: float64(5), object(2)\n",
      "memory usage: 480.0+ bytes\n"
     ]
    }
   ],
   "source": [
    "test.info()"
   ]
  }
 ],
 "metadata": {
  "hide_input": false,
  "kernelspec": {
   "display_name": "Python 3",
   "language": "python",
   "name": "python3"
  },
  "language_info": {
   "codemirror_mode": {
    "name": "ipython",
    "version": 3
   },
   "file_extension": ".py",
   "mimetype": "text/x-python",
   "name": "python",
   "nbconvert_exporter": "python",
   "pygments_lexer": "ipython3",
   "version": "3.7.6"
  },
  "toc": {
   "base_numbering": 1,
   "nav_menu": {},
   "number_sections": true,
   "sideBar": true,
   "skip_h1_title": false,
   "title_cell": "Table of Contents",
   "title_sidebar": "Contents",
   "toc_cell": false,
   "toc_position": {
    "height": "calc(100% - 180px)",
    "left": "10px",
    "top": "150px",
    "width": "384px"
   },
   "toc_section_display": true,
   "toc_window_display": true
  },
  "varInspector": {
   "cols": {
    "lenName": 16,
    "lenType": 16,
    "lenVar": 40
   },
   "kernels_config": {
    "python": {
     "delete_cmd_postfix": "",
     "delete_cmd_prefix": "del ",
     "library": "var_list.py",
     "varRefreshCmd": "print(var_dic_list())"
    },
    "r": {
     "delete_cmd_postfix": ") ",
     "delete_cmd_prefix": "rm(",
     "library": "var_list.r",
     "varRefreshCmd": "cat(var_dic_list()) "
    }
   },
   "types_to_exclude": [
    "module",
    "function",
    "builtin_function_or_method",
    "instance",
    "_Feature"
   ],
   "window_display": false
  }
 },
 "nbformat": 4,
 "nbformat_minor": 2
}
